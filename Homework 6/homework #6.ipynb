{
 "cells": [
  {
   "cell_type": "code",
   "execution_count": 1,
   "metadata": {},
   "outputs": [],
   "source": [
    "import pandas as pd\n",
    "import bqplot\n",
    "import numpy as np\n",
    "import traitlets\n",
    "import ipywidgets\n",
    "import matplotlib.pyplot as plt\n",
    "%matplotlib inline"
   ]
  },
  {
   "cell_type": "code",
   "execution_count": 2,
   "metadata": {},
   "outputs": [],
   "source": [
    "mySelectedLabel = ipywidgets.Label()"
   ]
  },
  {
   "cell_type": "code",
   "execution_count": 3,
   "metadata": {},
   "outputs": [],
   "source": [
    "buildings = pd.read_csv('building_inventory.csv',\n",
    "               na_values={'Square Footage': 0, \n",
    "                         'Year Acquired': 0,\n",
    "                         'Year Constructed': 0, \n",
    "                         'Floors':0})"
   ]
  },
  {
   "cell_type": "code",
   "execution_count": 4,
   "metadata": {},
   "outputs": [],
   "source": [
    "buildings_heatmap_data = pd.pivot_table(buildings,\n",
    "                                       index = ['Congress Dist'],\n",
    "                                       values = ['Square Footage'],\n",
    "                                       columns = ['Agency Name'],\n",
    "                                       aggfunc = np.sum)"
   ]
  },
  {
   "cell_type": "code",
   "execution_count": 5,
   "metadata": {},
   "outputs": [],
   "source": [
    "Agency_Name = np.asarray(buildings_heatmap_data.columns.levels[1].to_list())"
   ]
  },
  {
   "cell_type": "code",
   "execution_count": 6,
   "metadata": {},
   "outputs": [],
   "source": [
    "Congress_Dist = np.asarray(buildings_heatmap_data.index.to_list())"
   ]
  },
  {
   "cell_type": "code",
   "execution_count": 7,
   "metadata": {},
   "outputs": [],
   "source": [
    "Square_Footage = buildings_heatmap_data.values"
   ]
  },
  {
   "cell_type": "code",
   "execution_count": 8,
   "metadata": {},
   "outputs": [],
   "source": [
    "#heatmap\n",
    "col_sc = bqplot.ColorScale(scheme=\"RdPu\", min=np.nanmin(buildings_heatmap_data), max=np.nanmax(buildings_heatmap_data)) \n",
    "\n",
    "x_sc = bqplot.LinearScale()\n",
    "y_sc = bqplot.LinearScale()\n",
    "\n",
    "c_ax = bqplot.ColorAxis(scale = col_sc, \n",
    "                        orientation = 'vertical', \n",
    "                        side = 'right')\n",
    "\n",
    "x_ax = bqplot.Axis(scale = x_sc, label='Agency Names')\n",
    "y_ax = bqplot.Axis(scale = y_sc, \n",
    "                   orientation = 'vertical', \n",
    "                   label = 'Congress Dist')\n",
    "\n",
    "heat_map = bqplot.GridHeatMap(color = buildings_heatmap_data,\n",
    "                              scales = {'color': col_sc,\n",
    "                                        'row': y_sc,\n",
    "                                        'column': x_sc},\n",
    "                              interactions = {'click': 'select'},\n",
    "                              anchor_style = {'fill':'blue'}, \n",
    "                              selected_style = {'opacity': 1.0},\n",
    "                              unselected_style = {'opacity': 1.0})"
   ]
  },
  {
   "cell_type": "code",
   "execution_count": 9,
   "metadata": {},
   "outputs": [],
   "source": [
    "total_year = buildings.groupby(\"Year Acquired\")[\"Square Footage\"].sum()"
   ]
  },
  {
   "cell_type": "code",
   "execution_count": 10,
   "metadata": {},
   "outputs": [],
   "source": [
    "#line graph\n",
    "i,j = 17, 6\n",
    "\n",
    "Name = [Agency_Name[j]] # min/max longitude\n",
    "Dist = [Congress_Dist[i],Congress_Dist[i+1]] # min/max latitude\n",
    "mask_name = []\n",
    "\n",
    "#prepare mask\n",
    "for i in range(len(buildings['Agency Name'])):\n",
    "    mask_name.append(Name[0])\n",
    "\n",
    "name_mask = (buildings['Agency Name'] == mask_name)\n",
    "region_mask = ( (buildings['Congress Dist'] >= Dist[0]) & (buildings['Congress Dist'] < Dist[1]))\n",
    "\n",
    "final_mask = (name_mask & region_mask)\n",
    "\n",
    "#get data attributes satisfy the requirement\n",
    "mask_buildings = buildings[final_mask]\n",
    "sorted_mask_buildings = mask_buildings.sort_values('Year Acquired')\n",
    "agg_b = sorted_mask_buildings.groupby(\"Year Acquired\")[\"Square Footage\"].sum()\n",
    "\n",
    "#plot line graph\n",
    "x_sc = bqplot.LinearScale()\n",
    "y_sc = bqplot.LinearScale()\n",
    "\n",
    "lines = bqplot.Lines(x = sorted_mask_buildings['Year Acquired'].unique(), y = agg_b, scales = {'x': x_sc, 'y': y_sc})\n",
    "\n",
    "ax_x = bqplot.Axis(scale = x_sc, label = 'Year Acquired')\n",
    "ax_y = bqplot.Axis(scale = y_sc, label = 'Total Square Footage', orientation = 'vertical')"
   ]
  },
  {
   "cell_type": "code",
   "execution_count": 11,
   "metadata": {},
   "outputs": [],
   "source": [
    "#interaction between line graph and heatmap\n",
    "def get_data_value(change):\n",
    "    if len(change['owner'].selected) == 1:\n",
    "        i, j = change['owner'].selected[0]\n",
    "        v = buildings_heatmap_data.iloc[i,j]\n",
    "        mySelectedLabel.value = 'Total Square Footage = ' + str(v)  + ', Agency: ' + Agency_Name[j] + ', Congress District: ' + str(i)\n",
    "        \n",
    "        #line graph\n",
    "        Name = [Agency_Name[j]] \n",
    "        if i == Congress_Dist[-1]:\n",
    "            Dist = [Congress_Dist[i],Congress_Dist[i]+1]\n",
    "        else:\n",
    "            Dist = [Congress_Dist[i],Congress_Dist[i+1]]\n",
    "        mask_name = []\n",
    "\n",
    "        #prepare mask\n",
    "        for i in range(len(buildings['Agency Name'])):\n",
    "            mask_name.append(Name[0])\n",
    "\n",
    "        name_mask = (buildings['Agency Name'] == mask_name)\n",
    "        region_mask = ( (buildings['Congress Dist'] >= Dist[0]) & (buildings['Congress Dist'] < Dist[1]))\n",
    "        \n",
    "        final_mask = (name_mask & region_mask)\n",
    "        \n",
    "        #get data attributes satisfy the requirement\n",
    "        mask_buildings = buildings[final_mask]\n",
    "        sorted_mask_buildings = mask_buildings.sort_values('Year Acquired')\n",
    "        agg_b = sorted_mask_buildings.groupby(\"Year Acquired\")[\"Square Footage\"].sum()\n",
    "        \n",
    "        \n",
    "        lines.x = sorted_mask_buildings['Year Acquired'].unique()\n",
    "        lines.y = agg_b\n",
    "\n",
    "heat_map.observe(get_data_value, 'selected')"
   ]
  },
  {
   "cell_type": "code",
   "execution_count": 12,
   "metadata": {},
   "outputs": [],
   "source": [
    "fig_heatmap = bqplot.Figure(marks = [heat_map], axes = [c_ax, y_ax, x_ax])\n",
    "fig_line = bqplot.Figure(marks = [lines], axes = [ax_x, ax_y])"
   ]
  },
  {
   "cell_type": "markdown",
   "metadata": {},
   "source": [
    "Each square represent one single congress district and agency name. Example, between congress dist 17 and 18, the line plot will only plot when it equals to 17."
   ]
  },
  {
   "cell_type": "code",
   "execution_count": 18,
   "metadata": {
    "scrolled": false
   },
   "outputs": [
    {
     "data": {
      "application/vnd.jupyter.widget-view+json": {
       "model_id": "7690d677078a411d94290b5674e0ccc4",
       "version_major": 2,
       "version_minor": 0
      },
      "text/plain": [
       "VBox(children=(Label(value='Total Square Footage = 3270.0, Agency: Department of Transportation, Congress Dist…"
      ]
     },
     "metadata": {},
     "output_type": "display_data"
    }
   ],
   "source": [
    "fig_heatmap.layout.min_width='500px'\n",
    "fig_line.layout.min_width='500px'\n",
    "\n",
    "myDashboard = ipywidgets.VBox([mySelectedLabel, ipywidgets.HBox([fig_heatmap,fig_line])])\n",
    "myDashboard"
   ]
  },
  {
   "cell_type": "markdown",
   "metadata": {},
   "source": [
    "End of homework 6"
   ]
  },
  {
   "cell_type": "markdown",
   "metadata": {},
   "source": [
    "Some extra stuff not in the homework, the total square footage vs the year"
   ]
  },
  {
   "cell_type": "code",
   "execution_count": 14,
   "metadata": {},
   "outputs": [],
   "source": [
    "total_year = buildings.groupby(\"Year Acquired\")[\"Square Footage\"].sum()"
   ]
  },
  {
   "cell_type": "code",
   "execution_count": 19,
   "metadata": {},
   "outputs": [
    {
     "data": {
      "application/vnd.jupyter.widget-view+json": {
       "model_id": "e67282da7d584ecfa8c05c1ef0d7f15a",
       "version_major": 2,
       "version_minor": 0
      },
      "text/plain": [
       "Figure(axes=[Axis(label='Year Acquired', scale=LinearScale()), Axis(label='Total Square Footage that year', or…"
      ]
     },
     "metadata": {},
     "output_type": "display_data"
    }
   ],
   "source": [
    "x_scale = bqplot.LinearScale()\n",
    "y_scale = bqplot.LinearScale()\n",
    "\n",
    "line_graph = bqplot.Lines(x = buildings['Year Acquired'].sort_values(ascending = True).unique(), y = total_year, scales = {'x': x_scale, 'y': y_scale})\n",
    "\n",
    "x_axis = bqplot.Axis(scale = x_scale, label = 'Year Acquired')\n",
    "y_axis = bqplot.Axis(scale = y_scale, label = 'Total Square Footage that year', orientation = 'vertical')\n",
    "\n",
    "graph = bqplot.Figure(marks = [line_graph], axes = [x_axis, y_axis])\n",
    "graph"
   ]
  },
  {
   "cell_type": "code",
   "execution_count": null,
   "metadata": {},
   "outputs": [],
   "source": []
  }
 ],
 "metadata": {
  "kernelspec": {
   "display_name": "Python 3",
   "language": "python",
   "name": "python3"
  },
  "language_info": {
   "codemirror_mode": {
    "name": "ipython",
    "version": 3
   },
   "file_extension": ".py",
   "mimetype": "text/x-python",
   "name": "python",
   "nbconvert_exporter": "python",
   "pygments_lexer": "ipython3",
   "version": "3.7.8"
  }
 },
 "nbformat": 4,
 "nbformat_minor": 4
}
